{
 "cells": [
  {
   "cell_type": "code",
   "execution_count": 5,
   "id": "f0e4b208-607a-4b01-9db5-2334fbef860f",
   "metadata": {},
   "outputs": [],
   "source": [
    "d1={'key':'vedu'}"
   ]
  },
  {
   "cell_type": "code",
   "execution_count": 7,
   "id": "18614597-120b-48f7-a766-20092cc889a6",
   "metadata": {},
   "outputs": [
    {
     "data": {
      "text/plain": [
       "{'key': 'vedu'}"
      ]
     },
     "execution_count": 7,
     "metadata": {},
     "output_type": "execute_result"
    }
   ],
   "source": [
    "d1"
   ]
  },
  {
   "cell_type": "code",
   "execution_count": 25,
   "id": "135cbd98-f662-40ba-8d93-ed23426ae318",
   "metadata": {},
   "outputs": [],
   "source": [
    "d2={1:'vedant',\"email\":\"vedant3715@gmai.com\",\"age\":'21'}"
   ]
  },
  {
   "cell_type": "code",
   "execution_count": 27,
   "id": "1017405d-99bf-43c2-839e-56b97df6c6cd",
   "metadata": {},
   "outputs": [
    {
     "data": {
      "text/plain": [
       "{1: 'vedant', 'email': 'vedant3715@gmai.com', 'age': '21'}"
      ]
     },
     "execution_count": 27,
     "metadata": {},
     "output_type": "execute_result"
    }
   ],
   "source": [
    "d2"
   ]
  },
  {
   "cell_type": "code",
   "execution_count": 21,
   "id": "fd22db61-d740-467a-a5ed-c420c6eeffab",
   "metadata": {},
   "outputs": [],
   "source": [
    "d3 ={234:\"vedu\",456:\"smit\"}"
   ]
  },
  {
   "cell_type": "code",
   "execution_count": 23,
   "id": "49f29f08-f2e3-4d27-bb5c-5c0bdd0e8af2",
   "metadata": {},
   "outputs": [
    {
     "data": {
      "text/plain": [
       "{234: 'vedu', 456: 'smit'}"
      ]
     },
     "execution_count": 23,
     "metadata": {},
     "output_type": "execute_result"
    }
   ],
   "source": [
    "d3"
   ]
  },
  {
   "cell_type": "code",
   "execution_count": 29,
   "id": "90305373-7eb0-4411-aaa3-0c8e94a55008",
   "metadata": {},
   "outputs": [
    {
     "data": {
      "text/plain": [
       "'smit'"
      ]
     },
     "execution_count": 29,
     "metadata": {},
     "output_type": "execute_result"
    }
   ],
   "source": [
    "d3[456]"
   ]
  },
  {
   "cell_type": "code",
   "execution_count": 43,
   "id": "1b180e64-4c15-4d07-975d-0dfe94ba9187",
   "metadata": {},
   "outputs": [],
   "source": [
    "d4={\"name\":'vedu',\"email_id\":'vedant@gmail',\"name\":'vedant',\"class time\":{'a':'8','b':'9','c':'10'}}"
   ]
  },
  {
   "cell_type": "code",
   "execution_count": 45,
   "id": "8462513b-9c53-428c-a828-1b5edced130f",
   "metadata": {},
   "outputs": [
    {
     "data": {
      "text/plain": [
       "{'name': 'vedant',\n",
       " 'email_id': 'vedant@gmail',\n",
       " 'class time': {'a': '8', 'b': '9', 'c': '10'}}"
      ]
     },
     "execution_count": 45,
     "metadata": {},
     "output_type": "execute_result"
    }
   ],
   "source": [
    "d4"
   ]
  },
  {
   "cell_type": "code",
   "execution_count": 47,
   "id": "a3b36476-ef4e-452e-ba57-3d9c37f26b6b",
   "metadata": {},
   "outputs": [
    {
     "data": {
      "text/plain": [
       "{'a': '8', 'b': '9', 'c': '10'}"
      ]
     },
     "execution_count": 47,
     "metadata": {},
     "output_type": "execute_result"
    }
   ],
   "source": [
    "d4['class time']"
   ]
  },
  {
   "cell_type": "code",
   "execution_count": 49,
   "id": "a452e2d5-79d2-4cbe-befb-c59edf11d5ac",
   "metadata": {},
   "outputs": [
    {
     "data": {
      "text/plain": [
       "{'name': 'vedant',\n",
       " 'email_id': 'vedant@gmail',\n",
       " 'class time': {'a': '8', 'b': '9', 'c': '10'}}"
      ]
     },
     "execution_count": 49,
     "metadata": {},
     "output_type": "execute_result"
    }
   ],
   "source": [
    "d4"
   ]
  },
  {
   "cell_type": "code",
   "execution_count": 55,
   "id": "8dd78e07-7d9a-4c7a-92d0-e8b7737d7c70",
   "metadata": {},
   "outputs": [],
   "source": [
    "d4[\"mentor\"]=['shetty','neeraj','yash','vinay']"
   ]
  },
  {
   "cell_type": "code",
   "execution_count": 57,
   "id": "403e2160-576e-4f6c-8e45-4742b76b0a1d",
   "metadata": {},
   "outputs": [
    {
     "data": {
      "text/plain": [
       "{'name': 'vedant',\n",
       " 'email_id': 'vedant@gmail',\n",
       " 'class time': {'a': '8', 'b': '9', 'c': '10'},\n",
       " 'mentor': ['shetty', 'neeraj', 'yash', 'vinay']}"
      ]
     },
     "execution_count": 57,
     "metadata": {},
     "output_type": "execute_result"
    }
   ],
   "source": [
    "d4"
   ]
  },
  {
   "cell_type": "code",
   "execution_count": 61,
   "id": "fc20d75c-e535-4ed4-857e-1f88313de7e7",
   "metadata": {},
   "outputs": [
    {
     "data": {
      "text/plain": [
       "list[dict_items([('name', 'vedant'), ('email_id', 'vedant@gmail'), ('class time', {'a': '8', 'b': '9', 'c': '10'}), ('mentor', ['shetty', 'neeraj', 'yash', 'vinay'])])]"
      ]
     },
     "execution_count": 61,
     "metadata": {},
     "output_type": "execute_result"
    }
   ],
   "source": [
    "list[d4.items()]"
   ]
  },
  {
   "cell_type": "code",
   "execution_count": 63,
   "id": "4ac5cfd3-5d18-4d07-8697-0001cfef5f78",
   "metadata": {},
   "outputs": [
    {
     "data": {
      "text/plain": [
       "dict_values(['vedant', 'vedant@gmail', {'a': '8', 'b': '9', 'c': '10'}, ['shetty', 'neeraj', 'yash', 'vinay']])"
      ]
     },
     "execution_count": 63,
     "metadata": {},
     "output_type": "execute_result"
    }
   ],
   "source": [
    "d4.values()"
   ]
  },
  {
   "cell_type": "code",
   "execution_count": 65,
   "id": "8cfe4426-9e70-4432-8d67-ee58ddea8d34",
   "metadata": {},
   "outputs": [
    {
     "data": {
      "text/plain": [
       "dict_keys(['name', 'email_id', 'class time', 'mentor'])"
      ]
     },
     "execution_count": 65,
     "metadata": {},
     "output_type": "execute_result"
    }
   ],
   "source": [
    "d4.keys()"
   ]
  },
  {
   "cell_type": "code",
   "execution_count": 67,
   "id": "7d470a8f-d304-4df0-8784-16a9b605afbe",
   "metadata": {},
   "outputs": [
    {
     "ename": "SyntaxError",
     "evalue": "invalid syntax (3592009158.py, line 1)",
     "output_type": "error",
     "traceback": [
      "\u001b[1;36m  Cell \u001b[1;32mIn[67], line 1\u001b[1;36m\u001b[0m\n\u001b[1;33m    d4.del(name)\u001b[0m\n\u001b[1;37m       ^\u001b[0m\n\u001b[1;31mSyntaxError\u001b[0m\u001b[1;31m:\u001b[0m invalid syntax\n"
     ]
    }
   ],
   "source": [
    "d4.del(name)"
   ]
  },
  {
   "cell_type": "code",
   "execution_count": 77,
   "id": "a5d2782d-c70c-4aac-9d81-5129ce762e8b",
   "metadata": {},
   "outputs": [
    {
     "ename": "KeyError",
     "evalue": "'name'",
     "output_type": "error",
     "traceback": [
      "\u001b[1;31m---------------------------------------------------------------------------\u001b[0m",
      "\u001b[1;31mKeyError\u001b[0m                                  Traceback (most recent call last)",
      "Cell \u001b[1;32mIn[77], line 1\u001b[0m\n\u001b[1;32m----> 1\u001b[0m \u001b[38;5;28;01mdel\u001b[39;00m d4[\u001b[38;5;124m'\u001b[39m\u001b[38;5;124mname\u001b[39m\u001b[38;5;124m'\u001b[39m]\n",
      "\u001b[1;31mKeyError\u001b[0m: 'name'"
     ]
    }
   ],
   "source": [
    "del d4['name']"
   ]
  },
  {
   "cell_type": "code",
   "execution_count": 79,
   "id": "43c1bce3-bad5-4234-b47e-820a8635d21b",
   "metadata": {},
   "outputs": [
    {
     "data": {
      "text/plain": [
       "{'email_id': 'vedant@gmail',\n",
       " 'class time': {'a': '8', 'b': '9', 'c': '10'},\n",
       " 'mentor': ['shetty', 'neeraj', 'yash', 'vinay']}"
      ]
     },
     "execution_count": 79,
     "metadata": {},
     "output_type": "execute_result"
    }
   ],
   "source": [
    "d4"
   ]
  },
  {
   "cell_type": "code",
   "execution_count": 103,
   "id": "e941948d-4e27-4b0d-b596-f1a1eb8b709b",
   "metadata": {},
   "outputs": [
    {
     "name": "stdin",
     "output_type": "stream",
     "text": [
      "enter the marks 55\n"
     ]
    },
    {
     "name": "stdout",
     "output_type": "stream",
     "text": [
      "student goes to A3 batch\n"
     ]
    }
   ],
   "source": [
    "marks=float(input(\"enter the marks\"))\n",
    "if marks >= 80:\n",
    "    print(\"student goes to A0 batch\")\n",
    "elif marks >=60 and marks >80: \n",
    "    print(\"student goes to A1 batch\")\n",
    "elif marks >=40 and marks>60:\n",
    "    print(\"student goes to A2 batch\")\n",
    "else:\n",
    "    print(\"student goes to A3 batch\")\n",
    "      \n"
   ]
  },
  {
   "cell_type": "code",
   "execution_count": 133,
   "id": "72e8b3ad-b62f-417b-9deb-1c4290757a41",
   "metadata": {},
   "outputs": [
    {
     "name": "stdin",
     "output_type": "stream",
     "text": [
      "enter price 100\n"
     ]
    },
    {
     "name": "stdout",
     "output_type": "stream",
     "text": [
      "not intersted\n"
     ]
    }
   ],
   "source": [
    "price=int(input(\"enter price\"))\n",
    "if price>1000:\n",
    "    print(\"will not buy\")\n",
    "    if price>5000:\n",
    "        print(\"its to expensive\")\n",
    "    if price<2000:\n",
    "        print(\"its ok\")\n",
    "    elif price<1000:\n",
    "        print(\"i will buy\")\n",
    "else:\n",
    "    print(\"not intersted\")"
   ]
  },
  {
   "cell_type": "code",
   "execution_count": 145,
   "id": "933900b9-e3f8-4079-b1c8-7cd77f2ff7c9",
   "metadata": {},
   "outputs": [
    {
     "name": "stdin",
     "output_type": "stream",
     "text": [
      "enter price -555\n"
     ]
    },
    {
     "name": "stdout",
     "output_type": "stream",
     "text": [
      "i will buy\n"
     ]
    }
   ],
   "source": [
    "price=int(input(\"enter price\"))\n",
    "if price>1000:\n",
    "    print(\"will not buy\")\n",
    "    if price>5000:\n",
    "        print(\"its to expensive\")\n",
    "    elif price<2000:\n",
    "        print(\"its ok\")\n",
    "elif price<1000:\n",
    "        print(\"i will buy\")\n",
    "else:\n",
    "    print(\"not intersted\")"
   ]
  },
  {
   "cell_type": "code",
   "execution_count": 149,
   "id": "7ab5e4b7-7adb-437d-b93f-06b1679818b4",
   "metadata": {},
   "outputs": [],
   "source": [
    "l=[1,2,3,4,5,6,6]"
   ]
  },
  {
   "cell_type": "code",
   "execution_count": 151,
   "id": "9caa1eee-4ac4-48a2-b5f0-47d57faca8d1",
   "metadata": {},
   "outputs": [
    {
     "data": {
      "text/plain": [
       "[1, 2, 3, 4, 5, 6, 6]"
      ]
     },
     "execution_count": 151,
     "metadata": {},
     "output_type": "execute_result"
    }
   ],
   "source": [
    "l"
   ]
  },
  {
   "cell_type": "code",
   "execution_count": 161,
   "id": "9936d539-2b72-49a6-abf9-68570f060d1e",
   "metadata": {},
   "outputs": [
    {
     "name": "stdout",
     "output_type": "stream",
     "text": [
      "1\n",
      "2\n",
      "3\n",
      "4\n",
      "5\n",
      "6\n",
      "6\n"
     ]
    }
   ],
   "source": [
    "for i in l:\n",
    "    print(i)"
   ]
  },
  {
   "cell_type": "code",
   "execution_count": 184,
   "id": "8fc407b1-852e-4820-9df9-ba8e14904f13",
   "metadata": {},
   "outputs": [
    {
     "name": "stdout",
     "output_type": "stream",
     "text": [
      "2\n",
      "3\n",
      "4\n",
      "5\n",
      "6\n",
      "7\n",
      "7\n"
     ]
    },
    {
     "data": {
      "text/plain": [
       "[2, 3, 4, 5, 6, 7, 7]"
      ]
     },
     "execution_count": 184,
     "metadata": {},
     "output_type": "execute_result"
    }
   ],
   "source": [
    "l1=[]\n",
    "for i in l:\n",
    "    print(i+1)\n",
    "    l1.append(i+1)\n",
    "l1"
   ]
  },
  {
   "cell_type": "code",
   "execution_count": 188,
   "id": "5ff19896-4b44-4705-9ce4-89e2e5c156f7",
   "metadata": {},
   "outputs": [],
   "source": [
    "d=[\"vedu\",\"smit\",\"jitu\",\"kalpita\"]"
   ]
  },
  {
   "cell_type": "code",
   "execution_count": 202,
   "id": "eeaf7b19-c71c-4041-b579-a72849cdebd5",
   "metadata": {},
   "outputs": [
    {
     "name": "stdout",
     "output_type": "stream",
     "text": [
      "VEDU\n",
      "SMIT\n",
      "JITU\n",
      "KALPITA\n"
     ]
    }
   ],
   "source": [
    "d1=[]\n",
    "for i in d:\n",
    "    print (i.upper())\n",
    "    d1.append(i.upper())\n",
    "    d1\n",
    "    \n",
    "    "
   ]
  },
  {
   "cell_type": "code",
   "execution_count": 204,
   "id": "6aa8d836-f694-4627-b12e-8a47885e44ee",
   "metadata": {},
   "outputs": [
    {
     "data": {
      "text/plain": [
       "['VEDU', 'SMIT', 'JITU', 'KALPITA']"
      ]
     },
     "execution_count": 204,
     "metadata": {},
     "output_type": "execute_result"
    }
   ],
   "source": [
    "d1"
   ]
  },
  {
   "cell_type": "code",
   "execution_count": 206,
   "id": "ae006512-77f1-49bd-a08b-a673b81c7547",
   "metadata": {},
   "outputs": [],
   "source": [
    "x=[\"vedu\",\"smit\",\"jitu\",\"kalpita\",45,2,2.23,5,8,8.9,9.9]"
   ]
  },
  {
   "cell_type": "code",
   "execution_count": 224,
   "id": "9ed3de16-72bb-41c2-b715-9eb14149c940",
   "metadata": {},
   "outputs": [],
   "source": [
    "x_num=[]\n",
    "x_str=[]\n",
    "for i in x:\n",
    "    if type(i)==int or type(i)==float:\n",
    "        x_num.append(i)\n",
    "    elif type(i)==str:\n",
    "        x_str.append(i)\n",
    "    x_num\n",
    "    x_str"
   ]
  },
  {
   "cell_type": "code",
   "execution_count": 226,
   "id": "b67934dd-a761-4919-812e-a3a2a64e9bc2",
   "metadata": {},
   "outputs": [
    {
     "data": {
      "text/plain": [
       "[45, 2, 2.23, 5, 8, 8.9, 9.9]"
      ]
     },
     "execution_count": 226,
     "metadata": {},
     "output_type": "execute_result"
    }
   ],
   "source": [
    "x_num"
   ]
  },
  {
   "cell_type": "code",
   "execution_count": 228,
   "id": "3acb2208-54a9-4e87-aa97-85fdcbca1801",
   "metadata": {},
   "outputs": [
    {
     "data": {
      "text/plain": [
       "['vedu', 'smit', 'jitu', 'kalpita']"
      ]
     },
     "execution_count": 228,
     "metadata": {},
     "output_type": "execute_result"
    }
   ],
   "source": [
    "x_str"
   ]
  },
  {
   "cell_type": "code",
   "execution_count": null,
   "id": "300890e4-7c63-4f17-b3af-1b59b35befcb",
   "metadata": {},
   "outputs": [],
   "source": []
  }
 ],
 "metadata": {
  "kernelspec": {
   "display_name": "Python [conda env:base] *",
   "language": "python",
   "name": "conda-base-py"
  },
  "language_info": {
   "codemirror_mode": {
    "name": "ipython",
    "version": 3
   },
   "file_extension": ".py",
   "mimetype": "text/x-python",
   "name": "python",
   "nbconvert_exporter": "python",
   "pygments_lexer": "ipython3",
   "version": "3.12.7"
  }
 },
 "nbformat": 4,
 "nbformat_minor": 5
}
